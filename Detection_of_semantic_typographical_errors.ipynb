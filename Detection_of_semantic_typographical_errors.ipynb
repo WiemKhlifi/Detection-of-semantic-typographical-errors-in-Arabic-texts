{
  "nbformat": 4,
  "nbformat_minor": 0,
  "metadata": {
    "colab": {
      "provenance": [],
      "collapsed_sections": [
        "ZPZLJxuQs4tf"
      ]
    },
    "kernelspec": {
      "name": "python3",
      "display_name": "Python 3"
    },
    "language_info": {
      "name": "python"
    },
    "accelerator": "GPU",
    "gpuClass": "standard"
  },
  "cells": [
    {
      "cell_type": "markdown",
      "source": [
        "# Required Installations"
      ],
      "metadata": {
        "id": "ZPZLJxuQs4tf"
      }
    },
    {
      "cell_type": "code",
      "source": [
        "!pip install transformers datasets arabert\n",
        "\n",
        "!pip install gensim spacy nltk\n",
        "\n",
        "!pip install rarfile"
      ],
      "metadata": {
        "id": "GcSRLa7e9i7h"
      },
      "execution_count": null,
      "outputs": []
    },
    {
      "cell_type": "markdown",
      "source": [
        "# Importing Libraries"
      ],
      "metadata": {
        "id": "8pgXzsUP9eSZ"
      }
    },
    {
      "cell_type": "code",
      "source": [
        "import nltk\n",
        "from nltk import ngrams\n",
        "import spacy\n",
        "import gensim\n",
        "import re\n",
        "import string\n",
        "import numpy as np\n",
        "import pandas as pd\n",
        "from numpy.linalg import norm\n",
        "from sklearn.metrics.pairwise import cosine_similarity\n",
        "import zipfile\n",
        "import os\n",
        "import rarfile\n",
        "from pprint import pprint\n",
        "\n",
        "from transformers import AutoTokenizer, AutoModel, AutoModelWithLMHead, pipeline\n",
        "from arabert.preprocess import ArabertPreprocessor\n",
        "from datasets import load_dataset\n",
        "import torch\n",
        "\n",
        "from matplotlib import pyplot as plt\n",
        "from sklearn.decomposition import PCA\n",
        "\n",
        "import warnings\n",
        "warnings.filterwarnings(\"ignore\", category=RuntimeWarning) \n",
        "\n",
        "nltk.download('punkt')\n",
        "nltk.download(\"stopwords\")"
      ],
      "metadata": {
        "id": "PnN9ldMY9qMt"
      },
      "execution_count": null,
      "outputs": []
    },
    {
      "cell_type": "code",
      "source": [
        "from google.colab import drive\n",
        "drive.mount(\"gdrive\")"
      ],
      "metadata": {
        "colab": {
          "base_uri": "https://localhost:8080/"
        },
        "id": "7Ss15rTzkohP",
        "outputId": "4bc88e8e-3698-4f5c-a107-7cf4a4d0991d"
      },
      "execution_count": 3,
      "outputs": [
        {
          "output_type": "stream",
          "name": "stdout",
          "text": [
            "Mounted at gdrive\n"
          ]
        }
      ]
    },
    {
      "cell_type": "markdown",
      "source": [
        "# Preprocessing the Data"
      ],
      "metadata": {
        "id": "yNJGc4KLBZAh"
      }
    },
    {
      "cell_type": "code",
      "source": [
        "def cosine_sim(A,B):\n",
        "  return np.dot(A,B)/(norm(A)*norm(B))"
      ],
      "metadata": {
        "id": "t61kPzBr6gmT"
      },
      "execution_count": 9,
      "outputs": []
    },
    {
      "cell_type": "code",
      "source": [
        "arabic_stopwords = list(set(nltk.corpus.stopwords.words(\"arabic\")))\n",
        "len(arabic_stopwords)\n",
        "arabic_stopwords[:10]"
      ],
      "metadata": {
        "id": "hd8pWDZYBpoQ",
        "colab": {
          "base_uri": "https://localhost:8080/"
        },
        "outputId": "82fbeed1-db3c-4c7a-bbd4-d26873871312"
      },
      "execution_count": 10,
      "outputs": [
        {
          "output_type": "execute_result",
          "data": {
            "text/plain": [
              "['عشر', 'كأنّ', 'هيا', 'أفريل', 'أعلم', 'ثمان', 'يوان', 'طَق', 'صار', 'أغسطس']"
            ]
          },
          "metadata": {},
          "execution_count": 10
        }
      ]
    },
    {
      "cell_type": "code",
      "source": [
        "string.punctuation"
      ],
      "metadata": {
        "colab": {
          "base_uri": "https://localhost:8080/",
          "height": 36
        },
        "id": "D_iWrpg6YUC_",
        "outputId": "3f83026a-a421-4183-d874-3381ce7723b5"
      },
      "execution_count": 11,
      "outputs": [
        {
          "output_type": "execute_result",
          "data": {
            "text/plain": [
              "'!\"#$%&\\'()*+,-./:;<=>?@[\\\\]^_`{|}~'"
            ],
            "application/vnd.google.colaboratory.intrinsic+json": {
              "type": "string"
            }
          },
          "metadata": {},
          "execution_count": 11
        }
      ]
    },
    {
      "cell_type": "code",
      "source": [
        "def text_cleaning(text, stop_words=arabic_stopwords):\n",
        "    \"\"\" \n",
        "    Args: \n",
        "      text : text to be cleaned of extra caracters and remove the stop words\n",
        "    Returns:\n",
        "      text : Cleaned text\"\"\"\n",
        "\n",
        "    # Remove punctuation\n",
        "    arabic_punctuations = '''`÷×؛<>،/:\"؟'¦”…“–ـ'''\n",
        "    english_punctuations = string.punctuation\n",
        "    punctuations_list = \"[\"+ arabic_punctuations + english_punctuations + \"]\"\n",
        "    text = re.sub(punctuations_list,\"\",text)\n",
        "    text = \" \".join([word for word in text.split() if word not in arabic_stopwords])\n",
        "\n",
        "    #Remove diacritics and normalize the chars\n",
        "    text = text.replace(\"ى\", \"ي\")\n",
        "    text = text.replace(\"ؤ\", \"ء\")\n",
        "    text = text.replace(\"ئ\", \"ء\")\n",
        "    text = text.replace(\"ة\", \"ه\")\n",
        "    text = text.replace(\"گ\", \"ك\")   \n",
        "    text = text.replace('وو', 'و')\n",
        "    text = text.replace('يي', 'ي')\n",
        "    text = re.sub(\"[إأآا]\", \"ا\", text)\n",
        "    text = \" \".join([word for word in text.split() if word not in arabic_stopwords])\n",
        "\n",
        "    arabic_diacritics = re.compile(r'[\\u0617-\\u061A\\u064B-\\u0652]')\n",
        "    text = re.sub(arabic_diacritics,\"\", text)\n",
        "    \n",
        "    #Eliminate the repeated caracters\n",
        "    text = re.sub(r'(.)\\1+', r'\\1', text)\n",
        "\n",
        "    # Remove arabic stop words\n",
        "    text = \" \".join([word for word in text.split() if word not in arabic_stopwords])\n",
        "    \n",
        "    #Remove extra blank space \n",
        "    text = text.strip()\n",
        "\n",
        "    return text"
      ],
      "metadata": {
        "id": "GFRcgfbHZqvP"
      },
      "execution_count": 12,
      "outputs": []
    },
    {
      "cell_type": "code",
      "source": [
        "text = \" أَلْعَبُ فى فداء الْمَدْرَسَة\"\n",
        "print(f\"The intial text: {text}\\nThe cleaned text: {text_cleaning(text)}\")"
      ],
      "metadata": {
        "colab": {
          "base_uri": "https://localhost:8080/"
        },
        "id": "Sg_4uHKc09si",
        "outputId": "605cc746-9763-458d-de3d-579dc11977f8"
      },
      "execution_count": 13,
      "outputs": [
        {
          "output_type": "stream",
          "name": "stdout",
          "text": [
            "The intial text:  أَلْعَبُ فى فداء الْمَدْرَسَة\n",
            "The cleaned text: العب فداء المدرسه\n"
          ]
        }
      ]
    },
    {
      "cell_type": "markdown",
      "source": [
        "# Aravec CBOW model"
      ],
      "metadata": {
        "id": "745a30asBRec"
      }
    },
    {
      "cell_type": "markdown",
      "source": [
        "Download the needed model from this github reposiory:\n",
        "**https://github.com/bakrianoo/aravec**"
      ],
      "metadata": {
        "id": "V_I_HM657p5s"
      }
    },
    {
      "cell_type": "code",
      "source": [
        "def load_spacy_model(path_to_zip_file):\n",
        "  \"\"\"\n",
        "  Args:\n",
        "    path_to_zip_file : A string that indicates the path to the file that we want to unzip it.\n",
        "  Returns:\n",
        "    model: The Spacy model needed to vectorize and tokenize the arabic text.\n",
        "  \"\"\"\n",
        "  cmd = \"unzip \"+ path_to_zip_file  # command to be executed\n",
        "  os.system(cmd)\n",
        "\n",
        "  model_name = path_to_zip_file.split('/')[-1].replace('.zip','.mdl') # Extract model name.\n",
        "  model = gensim.models.Word2Vec.load(model_name) # Initialize the gensim model using the tsored data in the zipfile.\n",
        "\n",
        "  os.makedirs(\"spacyModel\",exist_ok=True)  # if it exists, rewrite it.\n",
        "  model.wv.save_word2vec_format(\"./spacyModel/aravec.txt\")    # Save the word2vec model structure to this directory.\n",
        "\n",
        "  os.system(\"gzip ./spacyModel/aravec.txt\")\n",
        "  os.system(\"python -m spacy init vectors ar ./spacyModel/aravec.txt.gz spacy.aravec.model\")  #Initialize the spaCy model using AraVec vectors\n",
        "  model = spacy.load(\"./spacy.aravec.model/\")\n",
        "\n",
        "  return model\n",
        "\n",
        "#load_spacy_model(path_to_zip_file)"
      ],
      "metadata": {
        "id": "_4UbCjREhEO3"
      },
      "execution_count": 15,
      "outputs": []
    },
    {
      "cell_type": "code",
      "source": [
        "path_to_zip_file = \"/content/gdrive/MyDrive/ENSI/NLP_Project/full_grams_cbow_100_wiki.zip\"\n",
        "spacy_model = load_spacy_model(path_to_zip_file)"
      ],
      "metadata": {
        "id": "1IRPeuGI4GQR"
      },
      "execution_count": 24,
      "outputs": []
    },
    {
      "cell_type": "code",
      "source": [
        "text = text_cleaning(\"أستيقظ في الصباح الناكر\")\n",
        "embeddings = {token : spacy_model(token).vector for token in text.split()}\n",
        "embeddings"
      ],
      "metadata": {
        "id": "qEFbgbG__Mw2",
        "colab": {
          "base_uri": "https://localhost:8080/"
        },
        "outputId": "cb27f3f1-563b-45dd-df69-e36fc750d7f6"
      },
      "execution_count": 25,
      "outputs": [
        {
          "output_type": "execute_result",
          "data": {
            "text/plain": [
              "{'استيقظ': array([-8.5617280e-01,  1.4508170e+00,  3.2188864e+00,  1.8047861e+00,\n",
              "        -1.6170052e+00, -1.7977168e-01, -1.5039544e+00,  2.9143432e-01,\n",
              "         2.6498339e-01,  1.5878360e-01, -1.4105649e+00,  7.4322271e-01,\n",
              "         1.8661531e+00, -3.9422348e-01,  2.0158749e+00, -7.7945518e-01,\n",
              "        -1.8646410e+00, -9.9249363e-01,  5.2158856e-01, -7.7072787e-01,\n",
              "         2.6465938e+00, -2.0888078e+00,  2.0678005e-01, -4.8900780e-01,\n",
              "        -1.5358924e+00, -7.3352861e-01, -6.9328147e-01,  1.7994665e-01,\n",
              "         2.2669105e-02,  7.3703492e-01, -2.3650987e-01,  4.5114398e-01,\n",
              "        -1.6006255e+00,  2.7566371e+00, -6.1341310e-01, -3.9447257e-01,\n",
              "        -2.2452240e+00, -1.1137856e+00,  1.2636138e+00, -1.6905982e+00,\n",
              "        -1.7127225e+00,  7.6200014e-01,  5.5258608e-01,  1.4505516e+00,\n",
              "        -1.8226978e+00, -1.8717378e-02, -9.2193508e-01,  5.2964105e-04,\n",
              "        -7.9593760e-01, -6.9468069e-01,  1.6134089e+00,  1.4142701e-01,\n",
              "         1.7813829e+00,  4.6771833e-01, -1.0094752e+00,  2.0052207e+00,\n",
              "        -3.2456737e+00,  1.1720508e+00, -2.8953345e+00,  7.4288082e-01,\n",
              "         1.5596084e-01,  2.7134683e+00, -1.6417069e+00,  7.8059733e-01,\n",
              "         2.4712080e-01,  2.4854851e+00, -3.6497825e-01,  1.3534315e+00,\n",
              "        -1.5068505e+00,  1.2434145e+00, -1.0061274e+00,  8.3136314e-01,\n",
              "         3.4820125e-01, -9.0957791e-01, -1.7760851e+00,  2.9954156e-01,\n",
              "        -3.9039731e-01, -7.7966028e-01,  1.3925047e+00,  6.4523315e-01,\n",
              "        -6.4426613e-01,  2.1102293e+00,  5.2184010e-01, -1.3595811e+00,\n",
              "         1.5784404e+00, -5.2200192e-01,  9.4037575e-01, -2.1004815e+00,\n",
              "         1.7114224e+00, -4.7346309e-01,  6.4507413e-01,  1.2012029e+00,\n",
              "        -1.6504045e+00,  6.2561888e-01, -1.6625925e+00, -2.0732071e+00,\n",
              "        -1.7942487e+00, -1.4634013e+00, -5.6956100e-01,  5.5193019e-01],\n",
              "       dtype=float32),\n",
              " 'الصباح': array([ 0.16466801,  3.9803288 , -0.39424285,  2.4824698 , -0.6196016 ,\n",
              "        -0.36663902, -0.607902  , -3.709648  ,  3.2038815 ,  1.5741645 ,\n",
              "        -1.3939039 ,  0.22193213,  4.0184784 ,  0.9807852 ,  1.638299  ,\n",
              "        -2.4461527 , -1.3478035 , -3.2880313 , -2.6030788 , -2.6703026 ,\n",
              "        -0.51302326, -2.683014  ,  3.6717181 , -0.05404133,  3.0958624 ,\n",
              "        -1.8500019 , -1.21917   , -0.6807227 , -1.8698686 , -3.1146839 ,\n",
              "         1.3023118 ,  2.9256606 ,  0.48172924,  1.7473338 , -3.2490764 ,\n",
              "        -0.20004761, -1.150044  ,  1.5952301 ,  0.0289291 , -0.96572554,\n",
              "        -2.7108743 ,  1.4680476 , -1.9241921 , -0.99587786, -2.505828  ,\n",
              "        -1.1338862 ,  1.7218243 ,  1.5978104 ,  0.5843789 , -0.4718423 ,\n",
              "         0.924883  , -4.4948554 ,  1.3877667 ,  0.28168586, -4.7740865 ,\n",
              "        -0.20072229, -5.582734  , -1.000392  , -4.3332305 , -1.1645714 ,\n",
              "         1.7661017 , -0.3425626 , -0.5529202 ,  4.007754  ,  0.30491695,\n",
              "         2.921894  , -2.4499278 ,  7.1951876 , -3.0345736 , -0.19403164,\n",
              "         4.6489735 ,  2.6175468 ,  2.669526  ,  0.6106234 , -2.6495855 ,\n",
              "         1.2949605 ,  0.26444867,  2.1373467 ,  2.2597744 , -3.9745214 ,\n",
              "         0.37191784,  0.7201253 ,  3.5930164 , -4.2691636 ,  2.8416836 ,\n",
              "        -0.5132044 , -1.9351628 ,  2.1974652 , -0.33582196, -1.6349384 ,\n",
              "         2.3193836 ,  1.3986121 , -4.3869643 ,  0.5503659 , -2.7132628 ,\n",
              "        -6.5935516 , -2.2240164 , -1.2950634 ,  1.8327597 ,  3.8635273 ],\n",
              "       dtype=float32),\n",
              " 'الناكر': array([0., 0., 0., 0., 0., 0., 0., 0., 0., 0., 0., 0., 0., 0., 0., 0., 0.,\n",
              "        0., 0., 0., 0., 0., 0., 0., 0., 0., 0., 0., 0., 0., 0., 0., 0., 0.,\n",
              "        0., 0., 0., 0., 0., 0., 0., 0., 0., 0., 0., 0., 0., 0., 0., 0., 0.,\n",
              "        0., 0., 0., 0., 0., 0., 0., 0., 0., 0., 0., 0., 0., 0., 0., 0., 0.,\n",
              "        0., 0., 0., 0., 0., 0., 0., 0., 0., 0., 0., 0., 0., 0., 0., 0., 0.,\n",
              "        0., 0., 0., 0., 0., 0., 0., 0., 0., 0., 0., 0., 0., 0., 0.],\n",
              "       dtype=float32)}"
            ]
          },
          "metadata": {},
          "execution_count": 25
        }
      ]
    },
    {
      "cell_type": "code",
      "source": [
        "def context_embedding(context,embeddings):\n",
        "\n",
        "  em_vector = embeddings[context[0]]\n",
        "  for i in range(1,len(context)):\n",
        "    em_vector += embeddings[context[i].strip()]\n",
        "\n",
        "  return em_vector/len(context)"
      ],
      "metadata": {
        "id": "P31dGfrq63ma"
      },
      "execution_count": 55,
      "outputs": []
    },
    {
      "cell_type": "code",
      "source": [
        "def Calculate_sim_w_c(text,spacy_model):\n",
        "  \"\"\"\n",
        "  This function calculates the similarity between each tokens and the context of the sentence (sentence embedding)\n",
        "  Args:\n",
        "    text: The phrase that contains an error semantic word.\n",
        "    spacy_model : the spacy model needed to clean and vectorize the tokens.\n",
        "  Returns:\n",
        "    similarities_token_context : Dictionnary contains the similarities between each token and it's context\n",
        "\n",
        "  \"\"\"\n",
        "  text = text_cleaning(text).strip()\n",
        "\n",
        "  embeddings = {token : spacy_model(token).vector for token in text.split()}\n",
        "  similarities_token_context = dict()\n",
        "  tokens = text.split()\n",
        "\n",
        "  for token in tokens:\n",
        "    context = [tk for tk in tokens if tk != token]\n",
        "    context_emb = context_embedding(context,embeddings)\n",
        "    cosine = cosine_sim(context_emb, embeddings[token])\n",
        "    if np.isnan(cosine)==False:\n",
        "      similarities_token_context[token] = cosine_sim(context_emb, embeddings[token])\n",
        "    else:\n",
        "      similarities_token_context[token] = 0\n",
        "    \n",
        "\n",
        "  return similarities_token_context"
      ],
      "metadata": {
        "id": "YWzrYoJ0tbyh"
      },
      "execution_count": 27,
      "outputs": []
    },
    {
      "cell_type": "code",
      "source": [
        "txt = \"أستيقظ في الصباح الناكر\"\n",
        "\n",
        "Calculate_sim_w_c(txt,spacy_model)"
      ],
      "metadata": {
        "colab": {
          "base_uri": "https://localhost:8080/"
        },
        "id": "8fmzIsY8_583",
        "outputId": "775efcee-e079-466e-d2d8-7a42858fadb5"
      },
      "execution_count": 29,
      "outputs": [
        {
          "output_type": "execute_result",
          "data": {
            "text/plain": [
              "{'استيقظ': 0.4532253, 'الصباح': 0.4532253, 'الناكر': 0}"
            ]
          },
          "metadata": {},
          "execution_count": 29
        }
      ]
    },
    {
      "cell_type": "code",
      "source": [
        "def Detect_wrong_token(text,spacy_model=spacy_model):\n",
        "  \"\"\"\n",
        "  Args:\n",
        "    text: The phrase that contains an error semantic word.\n",
        "    spacy_model : the spacy model needed to clean and vectorize the tokens.\n",
        "  Returns:\n",
        "    string: the wrong word\n",
        "\n",
        "  \"\"\"\n",
        "\n",
        "  similarities_token_context = Calculate_sim_w_c(text,spacy_model)\n",
        "  sorted_similarity_list = sorted(similarities_token_context.items(), key = lambda item: item[1])\n",
        "  if sorted_similarity_list[0][1]<=0.3 :\n",
        "    print(\"The wrong word in the sentence is : \", sorted_similarity_list[0][0])\n",
        "    return sorted_similarity_list[0][0]\n",
        "  else:\n",
        "    return 'There is no wrong word'\n",
        "\n",
        "wrong_word = Detect_wrong_token(txt)"
      ],
      "metadata": {
        "colab": {
          "base_uri": "https://localhost:8080/"
        },
        "id": "2P4vm3KjtbxQ",
        "outputId": "02c77c7c-1e00-4e98-8b75-cdfafbfb0e67"
      },
      "execution_count": 60,
      "outputs": [
        {
          "output_type": "stream",
          "name": "stdout",
          "text": [
            "The wrong word in the sentence is :  اعصاب\n"
          ]
        }
      ]
    },
    {
      "cell_type": "code",
      "source": [
        "df = pd.read_csv('/content/gdrive/MyDrive/NLP_Project/arabic.txt',sep=\",\")\n",
        "df.columns = ['labels','text']\n",
        "df['labels'] = df['labels'].apply(lambda x:text_cleaning(x))\n",
        "df.head()"
      ],
      "metadata": {
        "colab": {
          "base_uri": "https://localhost:8080/",
          "height": 206
        },
        "id": "XqIOyh6RA3eg",
        "outputId": "a75cccfb-969b-4fd0-da93-c26d57d6da01"
      },
      "execution_count": 61,
      "outputs": [
        {
          "output_type": "execute_result",
          "data": {
            "text/plain": [
              "   labels                            text\n",
              "0   عاصفه            عاصفة لبنان هي بيروت\n",
              "1  الناكر         أستيقظ في الصباح الناكر\n",
              "2   اعصاب         أعصاب الأشجار بها أوراق\n",
              "3  الوقفه        كتب الطبيب الوقفة الطبية\n",
              "4  مبتكرا  أنَا أَصْحُو مِن النَوم مبتكرا"
            ],
            "text/html": [
              "\n",
              "  <div id=\"df-c7642bb2-5392-4822-89fa-c7d71de32a93\">\n",
              "    <div class=\"colab-df-container\">\n",
              "      <div>\n",
              "<style scoped>\n",
              "    .dataframe tbody tr th:only-of-type {\n",
              "        vertical-align: middle;\n",
              "    }\n",
              "\n",
              "    .dataframe tbody tr th {\n",
              "        vertical-align: top;\n",
              "    }\n",
              "\n",
              "    .dataframe thead th {\n",
              "        text-align: right;\n",
              "    }\n",
              "</style>\n",
              "<table border=\"1\" class=\"dataframe\">\n",
              "  <thead>\n",
              "    <tr style=\"text-align: right;\">\n",
              "      <th></th>\n",
              "      <th>labels</th>\n",
              "      <th>text</th>\n",
              "    </tr>\n",
              "  </thead>\n",
              "  <tbody>\n",
              "    <tr>\n",
              "      <th>0</th>\n",
              "      <td>عاصفه</td>\n",
              "      <td>عاصفة لبنان هي بيروت</td>\n",
              "    </tr>\n",
              "    <tr>\n",
              "      <th>1</th>\n",
              "      <td>الناكر</td>\n",
              "      <td>أستيقظ في الصباح الناكر</td>\n",
              "    </tr>\n",
              "    <tr>\n",
              "      <th>2</th>\n",
              "      <td>اعصاب</td>\n",
              "      <td>أعصاب الأشجار بها أوراق</td>\n",
              "    </tr>\n",
              "    <tr>\n",
              "      <th>3</th>\n",
              "      <td>الوقفه</td>\n",
              "      <td>كتب الطبيب الوقفة الطبية</td>\n",
              "    </tr>\n",
              "    <tr>\n",
              "      <th>4</th>\n",
              "      <td>مبتكرا</td>\n",
              "      <td>أنَا أَصْحُو مِن النَوم مبتكرا</td>\n",
              "    </tr>\n",
              "  </tbody>\n",
              "</table>\n",
              "</div>\n",
              "      <button class=\"colab-df-convert\" onclick=\"convertToInteractive('df-c7642bb2-5392-4822-89fa-c7d71de32a93')\"\n",
              "              title=\"Convert this dataframe to an interactive table.\"\n",
              "              style=\"display:none;\">\n",
              "        \n",
              "  <svg xmlns=\"http://www.w3.org/2000/svg\" height=\"24px\"viewBox=\"0 0 24 24\"\n",
              "       width=\"24px\">\n",
              "    <path d=\"M0 0h24v24H0V0z\" fill=\"none\"/>\n",
              "    <path d=\"M18.56 5.44l.94 2.06.94-2.06 2.06-.94-2.06-.94-.94-2.06-.94 2.06-2.06.94zm-11 1L8.5 8.5l.94-2.06 2.06-.94-2.06-.94L8.5 2.5l-.94 2.06-2.06.94zm10 10l.94 2.06.94-2.06 2.06-.94-2.06-.94-.94-2.06-.94 2.06-2.06.94z\"/><path d=\"M17.41 7.96l-1.37-1.37c-.4-.4-.92-.59-1.43-.59-.52 0-1.04.2-1.43.59L10.3 9.45l-7.72 7.72c-.78.78-.78 2.05 0 2.83L4 21.41c.39.39.9.59 1.41.59.51 0 1.02-.2 1.41-.59l7.78-7.78 2.81-2.81c.8-.78.8-2.07 0-2.86zM5.41 20L4 18.59l7.72-7.72 1.47 1.35L5.41 20z\"/>\n",
              "  </svg>\n",
              "      </button>\n",
              "      \n",
              "  <style>\n",
              "    .colab-df-container {\n",
              "      display:flex;\n",
              "      flex-wrap:wrap;\n",
              "      gap: 12px;\n",
              "    }\n",
              "\n",
              "    .colab-df-convert {\n",
              "      background-color: #E8F0FE;\n",
              "      border: none;\n",
              "      border-radius: 50%;\n",
              "      cursor: pointer;\n",
              "      display: none;\n",
              "      fill: #1967D2;\n",
              "      height: 32px;\n",
              "      padding: 0 0 0 0;\n",
              "      width: 32px;\n",
              "    }\n",
              "\n",
              "    .colab-df-convert:hover {\n",
              "      background-color: #E2EBFA;\n",
              "      box-shadow: 0px 1px 2px rgba(60, 64, 67, 0.3), 0px 1px 3px 1px rgba(60, 64, 67, 0.15);\n",
              "      fill: #174EA6;\n",
              "    }\n",
              "\n",
              "    [theme=dark] .colab-df-convert {\n",
              "      background-color: #3B4455;\n",
              "      fill: #D2E3FC;\n",
              "    }\n",
              "\n",
              "    [theme=dark] .colab-df-convert:hover {\n",
              "      background-color: #434B5C;\n",
              "      box-shadow: 0px 1px 3px 1px rgba(0, 0, 0, 0.15);\n",
              "      filter: drop-shadow(0px 1px 2px rgba(0, 0, 0, 0.3));\n",
              "      fill: #FFFFFF;\n",
              "    }\n",
              "  </style>\n",
              "\n",
              "      <script>\n",
              "        const buttonEl =\n",
              "          document.querySelector('#df-c7642bb2-5392-4822-89fa-c7d71de32a93 button.colab-df-convert');\n",
              "        buttonEl.style.display =\n",
              "          google.colab.kernel.accessAllowed ? 'block' : 'none';\n",
              "\n",
              "        async function convertToInteractive(key) {\n",
              "          const element = document.querySelector('#df-c7642bb2-5392-4822-89fa-c7d71de32a93');\n",
              "          const dataTable =\n",
              "            await google.colab.kernel.invokeFunction('convertToInteractive',\n",
              "                                                     [key], {});\n",
              "          if (!dataTable) return;\n",
              "\n",
              "          const docLinkHtml = 'Like what you see? Visit the ' +\n",
              "            '<a target=\"_blank\" href=https://colab.research.google.com/notebooks/data_table.ipynb>data table notebook</a>'\n",
              "            + ' to learn more about interactive tables.';\n",
              "          element.innerHTML = '';\n",
              "          dataTable['output_type'] = 'display_data';\n",
              "          await google.colab.output.renderOutput(dataTable, element);\n",
              "          const docLink = document.createElement('div');\n",
              "          docLink.innerHTML = docLinkHtml;\n",
              "          element.appendChild(docLink);\n",
              "        }\n",
              "      </script>\n",
              "    </div>\n",
              "  </div>\n",
              "  "
            ]
          },
          "metadata": {},
          "execution_count": 61
        }
      ]
    },
    {
      "cell_type": "code",
      "source": [
        "df['w_aravec'] = df['text'].apply(lambda token : Detect_wrong_token(token))\n",
        "df"
      ],
      "metadata": {
        "id": "487kBZjkBBsQ",
        "colab": {
          "base_uri": "https://localhost:8080/",
          "height": 828
        },
        "outputId": "bfc3e490-9710-4b2d-afa3-2e8b96f61231"
      },
      "execution_count": 62,
      "outputs": [
        {
          "output_type": "stream",
          "name": "stdout",
          "text": [
            "The wrong word in the sentence is :  عاصفه\n",
            "The wrong word in the sentence is :  الناكر\n",
            "The wrong word in the sentence is :  اعصاب\n",
            "The wrong word in the sentence is :  الوقفه\n",
            "The wrong word in the sentence is :  مبتكرا\n",
            "The wrong word in the sentence is :  يسكب\n",
            "The wrong word in the sentence is :  لبثت\n",
            "The wrong word in the sentence is :  مبتكرا\n",
            "The wrong word in the sentence is :  لطيار\n",
            "The wrong word in the sentence is :  يرعي\n",
            "The wrong word in the sentence is :  فحوصا\n",
            "The wrong word in the sentence is :  لكنا\n",
            "The wrong word in the sentence is :  تعد\n",
            "The wrong word in the sentence is :  ان\n",
            "The wrong word in the sentence is :  الحياه\n",
            "The wrong word in the sentence is :  اعطيت\n"
          ]
        },
        {
          "output_type": "execute_result",
          "data": {
            "text/plain": [
              "     labels                                            text w_aravec\n",
              "0     عاصفه                            عاصفة لبنان هي بيروت    عاصفه\n",
              "1    الناكر                         أستيقظ في الصباح الناكر   الناكر\n",
              "2     اعصاب                         أعصاب الأشجار بها أوراق    اعصاب\n",
              "3    الوقفه                        كتب الطبيب الوقفة الطبية   الوقفه\n",
              "4    مبتكرا                  أنَا أَصْحُو مِن النَوم مبتكرا   مبتكرا\n",
              "5      يسكب                            هو يسكب في منزل كبير     يسكب\n",
              "6      لبثت                                 لبثت ثوبا جديدا     لبثت\n",
              "7    مبتكرا                  أنَا أَصْحُو مِن النَوم مبتكرا   مبتكرا\n",
              "8     لطيار                      الأشجار تمثل أعشاشا للطيار    لطيار\n",
              "9   الالغام          كان الراعي جالس اعلى التل يرعى الالغام     يرعي\n",
              "10    فحوصا                     أعطى الأستاذ التلاميذ فحوصا    فحوصا\n",
              "11     معده     الحياة بسيطة حقا ، لكننا نصر على جعلها معدة     لكنا\n",
              "12  المستمع  تعد البطالة احد اهم الظواهر التى تلازم المستمع      تعد\n",
              "13     تسمع               ان سلمت من الاسد فلا تسمع في صيده       ان\n",
              "14   العازل                 الحياة تجارب يستفيد منها العازل   الحياه\n",
              "15     اصبت                لو أعطيت الأحمق خنجرا أصبت قاتلا    اعطيت"
            ],
            "text/html": [
              "\n",
              "  <div id=\"df-e8a69dae-82d9-426a-ab34-9deb6335c795\">\n",
              "    <div class=\"colab-df-container\">\n",
              "      <div>\n",
              "<style scoped>\n",
              "    .dataframe tbody tr th:only-of-type {\n",
              "        vertical-align: middle;\n",
              "    }\n",
              "\n",
              "    .dataframe tbody tr th {\n",
              "        vertical-align: top;\n",
              "    }\n",
              "\n",
              "    .dataframe thead th {\n",
              "        text-align: right;\n",
              "    }\n",
              "</style>\n",
              "<table border=\"1\" class=\"dataframe\">\n",
              "  <thead>\n",
              "    <tr style=\"text-align: right;\">\n",
              "      <th></th>\n",
              "      <th>labels</th>\n",
              "      <th>text</th>\n",
              "      <th>w_aravec</th>\n",
              "    </tr>\n",
              "  </thead>\n",
              "  <tbody>\n",
              "    <tr>\n",
              "      <th>0</th>\n",
              "      <td>عاصفه</td>\n",
              "      <td>عاصفة لبنان هي بيروت</td>\n",
              "      <td>عاصفه</td>\n",
              "    </tr>\n",
              "    <tr>\n",
              "      <th>1</th>\n",
              "      <td>الناكر</td>\n",
              "      <td>أستيقظ في الصباح الناكر</td>\n",
              "      <td>الناكر</td>\n",
              "    </tr>\n",
              "    <tr>\n",
              "      <th>2</th>\n",
              "      <td>اعصاب</td>\n",
              "      <td>أعصاب الأشجار بها أوراق</td>\n",
              "      <td>اعصاب</td>\n",
              "    </tr>\n",
              "    <tr>\n",
              "      <th>3</th>\n",
              "      <td>الوقفه</td>\n",
              "      <td>كتب الطبيب الوقفة الطبية</td>\n",
              "      <td>الوقفه</td>\n",
              "    </tr>\n",
              "    <tr>\n",
              "      <th>4</th>\n",
              "      <td>مبتكرا</td>\n",
              "      <td>أنَا أَصْحُو مِن النَوم مبتكرا</td>\n",
              "      <td>مبتكرا</td>\n",
              "    </tr>\n",
              "    <tr>\n",
              "      <th>5</th>\n",
              "      <td>يسكب</td>\n",
              "      <td>هو يسكب في منزل كبير</td>\n",
              "      <td>يسكب</td>\n",
              "    </tr>\n",
              "    <tr>\n",
              "      <th>6</th>\n",
              "      <td>لبثت</td>\n",
              "      <td>لبثت ثوبا جديدا</td>\n",
              "      <td>لبثت</td>\n",
              "    </tr>\n",
              "    <tr>\n",
              "      <th>7</th>\n",
              "      <td>مبتكرا</td>\n",
              "      <td>أنَا أَصْحُو مِن النَوم مبتكرا</td>\n",
              "      <td>مبتكرا</td>\n",
              "    </tr>\n",
              "    <tr>\n",
              "      <th>8</th>\n",
              "      <td>لطيار</td>\n",
              "      <td>الأشجار تمثل أعشاشا للطيار</td>\n",
              "      <td>لطيار</td>\n",
              "    </tr>\n",
              "    <tr>\n",
              "      <th>9</th>\n",
              "      <td>الالغام</td>\n",
              "      <td>كان الراعي جالس اعلى التل يرعى الالغام</td>\n",
              "      <td>يرعي</td>\n",
              "    </tr>\n",
              "    <tr>\n",
              "      <th>10</th>\n",
              "      <td>فحوصا</td>\n",
              "      <td>أعطى الأستاذ التلاميذ فحوصا</td>\n",
              "      <td>فحوصا</td>\n",
              "    </tr>\n",
              "    <tr>\n",
              "      <th>11</th>\n",
              "      <td>معده</td>\n",
              "      <td>الحياة بسيطة حقا ، لكننا نصر على جعلها معدة</td>\n",
              "      <td>لكنا</td>\n",
              "    </tr>\n",
              "    <tr>\n",
              "      <th>12</th>\n",
              "      <td>المستمع</td>\n",
              "      <td>تعد البطالة احد اهم الظواهر التى تلازم المستمع</td>\n",
              "      <td>تعد</td>\n",
              "    </tr>\n",
              "    <tr>\n",
              "      <th>13</th>\n",
              "      <td>تسمع</td>\n",
              "      <td>ان سلمت من الاسد فلا تسمع في صيده</td>\n",
              "      <td>ان</td>\n",
              "    </tr>\n",
              "    <tr>\n",
              "      <th>14</th>\n",
              "      <td>العازل</td>\n",
              "      <td>الحياة تجارب يستفيد منها العازل</td>\n",
              "      <td>الحياه</td>\n",
              "    </tr>\n",
              "    <tr>\n",
              "      <th>15</th>\n",
              "      <td>اصبت</td>\n",
              "      <td>لو أعطيت الأحمق خنجرا أصبت قاتلا</td>\n",
              "      <td>اعطيت</td>\n",
              "    </tr>\n",
              "  </tbody>\n",
              "</table>\n",
              "</div>\n",
              "      <button class=\"colab-df-convert\" onclick=\"convertToInteractive('df-e8a69dae-82d9-426a-ab34-9deb6335c795')\"\n",
              "              title=\"Convert this dataframe to an interactive table.\"\n",
              "              style=\"display:none;\">\n",
              "        \n",
              "  <svg xmlns=\"http://www.w3.org/2000/svg\" height=\"24px\"viewBox=\"0 0 24 24\"\n",
              "       width=\"24px\">\n",
              "    <path d=\"M0 0h24v24H0V0z\" fill=\"none\"/>\n",
              "    <path d=\"M18.56 5.44l.94 2.06.94-2.06 2.06-.94-2.06-.94-.94-2.06-.94 2.06-2.06.94zm-11 1L8.5 8.5l.94-2.06 2.06-.94-2.06-.94L8.5 2.5l-.94 2.06-2.06.94zm10 10l.94 2.06.94-2.06 2.06-.94-2.06-.94-.94-2.06-.94 2.06-2.06.94z\"/><path d=\"M17.41 7.96l-1.37-1.37c-.4-.4-.92-.59-1.43-.59-.52 0-1.04.2-1.43.59L10.3 9.45l-7.72 7.72c-.78.78-.78 2.05 0 2.83L4 21.41c.39.39.9.59 1.41.59.51 0 1.02-.2 1.41-.59l7.78-7.78 2.81-2.81c.8-.78.8-2.07 0-2.86zM5.41 20L4 18.59l7.72-7.72 1.47 1.35L5.41 20z\"/>\n",
              "  </svg>\n",
              "      </button>\n",
              "      \n",
              "  <style>\n",
              "    .colab-df-container {\n",
              "      display:flex;\n",
              "      flex-wrap:wrap;\n",
              "      gap: 12px;\n",
              "    }\n",
              "\n",
              "    .colab-df-convert {\n",
              "      background-color: #E8F0FE;\n",
              "      border: none;\n",
              "      border-radius: 50%;\n",
              "      cursor: pointer;\n",
              "      display: none;\n",
              "      fill: #1967D2;\n",
              "      height: 32px;\n",
              "      padding: 0 0 0 0;\n",
              "      width: 32px;\n",
              "    }\n",
              "\n",
              "    .colab-df-convert:hover {\n",
              "      background-color: #E2EBFA;\n",
              "      box-shadow: 0px 1px 2px rgba(60, 64, 67, 0.3), 0px 1px 3px 1px rgba(60, 64, 67, 0.15);\n",
              "      fill: #174EA6;\n",
              "    }\n",
              "\n",
              "    [theme=dark] .colab-df-convert {\n",
              "      background-color: #3B4455;\n",
              "      fill: #D2E3FC;\n",
              "    }\n",
              "\n",
              "    [theme=dark] .colab-df-convert:hover {\n",
              "      background-color: #434B5C;\n",
              "      box-shadow: 0px 1px 3px 1px rgba(0, 0, 0, 0.15);\n",
              "      filter: drop-shadow(0px 1px 2px rgba(0, 0, 0, 0.3));\n",
              "      fill: #FFFFFF;\n",
              "    }\n",
              "  </style>\n",
              "\n",
              "      <script>\n",
              "        const buttonEl =\n",
              "          document.querySelector('#df-e8a69dae-82d9-426a-ab34-9deb6335c795 button.colab-df-convert');\n",
              "        buttonEl.style.display =\n",
              "          google.colab.kernel.accessAllowed ? 'block' : 'none';\n",
              "\n",
              "        async function convertToInteractive(key) {\n",
              "          const element = document.querySelector('#df-e8a69dae-82d9-426a-ab34-9deb6335c795');\n",
              "          const dataTable =\n",
              "            await google.colab.kernel.invokeFunction('convertToInteractive',\n",
              "                                                     [key], {});\n",
              "          if (!dataTable) return;\n",
              "\n",
              "          const docLinkHtml = 'Like what you see? Visit the ' +\n",
              "            '<a target=\"_blank\" href=https://colab.research.google.com/notebooks/data_table.ipynb>data table notebook</a>'\n",
              "            + ' to learn more about interactive tables.';\n",
              "          element.innerHTML = '';\n",
              "          dataTable['output_type'] = 'display_data';\n",
              "          await google.colab.output.renderOutput(dataTable, element);\n",
              "          const docLink = document.createElement('div');\n",
              "          docLink.innerHTML = docLinkHtml;\n",
              "          element.appendChild(docLink);\n",
              "        }\n",
              "      </script>\n",
              "    </div>\n",
              "  </div>\n",
              "  "
            ]
          },
          "metadata": {},
          "execution_count": 62
        }
      ]
    },
    {
      "cell_type": "code",
      "source": [
        "# Calculation of the Accuracy\n",
        "\n",
        "result = sum(df['w_aravec'] == df['labels'])\n",
        "accuracy = result/len(df)\n",
        "print(\"Accuracy: \",accuracy)"
      ],
      "metadata": {
        "id": "aw_SMfUUBBoI",
        "colab": {
          "base_uri": "https://localhost:8080/"
        },
        "outputId": "67206f54-d310-4723-f321-a48c50ceb1d9"
      },
      "execution_count": 63,
      "outputs": [
        {
          "output_type": "stream",
          "name": "stdout",
          "text": [
            "Accuracy:  0.625\n"
          ]
        }
      ]
    },
    {
      "cell_type": "markdown",
      "source": [
        "# Error Detection using Arabert model"
      ],
      "metadata": {
        "id": "Df2-XTBDBrDn"
      }
    },
    {
      "cell_type": "code",
      "source": [
        "model_name = \"aubmindlab/bert-base-arabertv02\"\n",
        "arabert_tokenizer = AutoTokenizer.from_pretrained(model_name)\n",
        "arabert_model = AutoModel.from_pretrained(model_name)\n",
        "\n",
        "arabert_prep = ArabertPreprocessor(model_name=model_name)"
      ],
      "metadata": {
        "id": "-FXQzjF19xG4"
      },
      "execution_count": null,
      "outputs": []
    },
    {
      "cell_type": "code",
      "source": [
        "text = 'عاصفة لبنان هي بيروت'\n",
        "text = text_cleaning(text)\n",
        "text_preprocessed = arabert_prep.preprocess(text)\n",
        "arabert_prep.preprocess(text)"
      ],
      "metadata": {
        "colab": {
          "base_uri": "https://localhost:8080/",
          "height": 36
        },
        "id": "EE9_yuLGi2Tw",
        "outputId": "3ae06981-5b91-42c9-ba61-5c60f2bc1c48"
      },
      "execution_count": 37,
      "outputs": [
        {
          "output_type": "execute_result",
          "data": {
            "text/plain": [
              "'عاصفه لبنان بيروت'"
            ],
            "application/vnd.google.colaboratory.intrinsic+json": {
              "type": "string"
            }
          },
          "metadata": {},
          "execution_count": 37
        }
      ]
    },
    {
      "cell_type": "code",
      "source": [
        "arabert_input = arabert_tokenizer.encode(text_preprocessed,add_special_tokens=False)\n",
        "ids_to_tokens = arabert_tokenizer.convert_ids_to_tokens(arabert_input)\n",
        "print(ids_to_tokens)\n",
        "print(arabert_input)"
      ],
      "metadata": {
        "colab": {
          "base_uri": "https://localhost:8080/"
        },
        "id": "5L53MwMlgSUc",
        "outputId": "03625297-bd32-4c9a-b737-235cc5cd478c"
      },
      "execution_count": 38,
      "outputs": [
        {
          "output_type": "stream",
          "name": "stdout",
          "text": [
            "['عاص', '##فه', 'لبنان', 'بيروت']\n",
            "[8424, 6133, 911, 2079]\n"
          ]
        }
      ]
    },
    {
      "cell_type": "code",
      "source": [
        "tensor_input_ids = torch.tensor(arabert_input).unsqueeze(0)\n",
        "print(tensor_input_ids.shape)\n",
        "tensor_input_ids"
      ],
      "metadata": {
        "colab": {
          "base_uri": "https://localhost:8080/"
        },
        "id": "vnN1LDUlgSTM",
        "outputId": "adb4147d-616c-4ea6-cc9f-7680675405f4"
      },
      "execution_count": 39,
      "outputs": [
        {
          "output_type": "stream",
          "name": "stdout",
          "text": [
            "torch.Size([1, 4])\n"
          ]
        },
        {
          "output_type": "execute_result",
          "data": {
            "text/plain": [
              "tensor([[8424, 6133,  911, 2079]])"
            ]
          },
          "metadata": {},
          "execution_count": 39
        }
      ]
    },
    {
      "cell_type": "code",
      "source": [
        "embeddings_array = arabert_model(tensor_input_ids)"
      ],
      "metadata": {
        "id": "pnz6mkcgggoV"
      },
      "execution_count": 40,
      "outputs": []
    },
    {
      "cell_type": "code",
      "source": [
        "embeddings_array[0].shape # batch_size x seq_len x emb_dim"
      ],
      "metadata": {
        "colab": {
          "base_uri": "https://localhost:8080/"
        },
        "id": "WiMX9RuMggEL",
        "outputId": "71fd1df3-875f-4ead-afa1-a332f6a89a14"
      },
      "execution_count": 41,
      "outputs": [
        {
          "output_type": "execute_result",
          "data": {
            "text/plain": [
              "torch.Size([1, 4, 768])"
            ]
          },
          "metadata": {},
          "execution_count": 41
        }
      ]
    },
    {
      "cell_type": "code",
      "source": [
        "def Extract_embeddings(text,arabert_model):\n",
        "  \"\"\"\n",
        "  This function calculates the similarity between each tokens and the context of the sentence (sentence embedding)\n",
        "  Args:\n",
        "    text: The phrase that contains an error semantic word.\n",
        "    arabert_model : the spacy model needed to clean and vectorize the tokens.\n",
        "  Returns:\n",
        "    embeddings : Dictionnary contains the embeddings of each token(word)\n",
        "\n",
        "  \"\"\"\n",
        "  text = text_cleaning(text).strip()\n",
        "  text_preprocessed = arabert_prep.preprocess(text)\n",
        "  arabert_input = arabert_tokenizer.encode(text_preprocessed,add_special_tokens=False)\n",
        "  tensor_input_ids = torch.tensor(arabert_input).unsqueeze(0)\n",
        "  embeddings_array = arabert_model(tensor_input_ids)\n",
        "  embeddings_array = embeddings_array[0][0]\n",
        "\n",
        "  ids_to_tokens = arabert_tokenizer.convert_ids_to_tokens(arabert_input)\n",
        "\n",
        "  embeddings =dict()\n",
        "  for i in range(len(ids_to_tokens)):\n",
        "    if '#' in ids_to_tokens[i]:\n",
        "      word = ids_to_tokens[i-1]+ids_to_tokens[i].strip('#')\n",
        "      embeddings[word] = embeddings_array[i]+embeddings_array[i-1]\n",
        "      if ids_to_tokens[i-1] in embeddings.keys():\n",
        "        del embeddings[ids_to_tokens[i-1]]\n",
        "    else:\n",
        "        embeddings[ids_to_tokens[i]] = embeddings_array[i]\n",
        "  \n",
        "  embeddings = {key:value for (key,value) in embeddings.items() if '#' not in key}\n",
        "  \n",
        "  return embeddings"
      ],
      "metadata": {
        "id": "-1EXeK4NgnX-"
      },
      "execution_count": 42,
      "outputs": []
    },
    {
      "cell_type": "code",
      "source": [
        "text = 'الأشجار تمثل أعشاشا للطيار'\n",
        "embd = Extract_embeddings(text,arabert_model)\n",
        "embd.keys()"
      ],
      "metadata": {
        "colab": {
          "base_uri": "https://localhost:8080/"
        },
        "id": "qpyM7dWAFFA9",
        "outputId": "87333aaf-48e4-4028-b5fc-8407c993772a"
      },
      "execution_count": 43,
      "outputs": [
        {
          "output_type": "execute_result",
          "data": {
            "text/plain": [
              "dict_keys(['الاشجار', 'تمثل', 'اعشاش', 'لطيار'])"
            ]
          },
          "metadata": {},
          "execution_count": 43
        }
      ]
    },
    {
      "cell_type": "code",
      "source": [
        "def context_embedding_bert(context,embeddings):\n",
        "\n",
        "  em_vector = embeddings[context[0]].detach().numpy()\n",
        "  for i in range(1,len(context)):\n",
        "    em_vector += embeddings[context[i]].detach().numpy()\n",
        "\n",
        "  return em_vector/len(context)"
      ],
      "metadata": {
        "id": "WZB-aJJREHc9"
      },
      "execution_count": 44,
      "outputs": []
    },
    {
      "cell_type": "code",
      "source": [
        "def AraBert_Detect_wrong_token(text,arabert_model=arabert_model):\n",
        "  \"\"\"\n",
        "  This function calculates the similarity between each tokens and the context of the sentence (sentence embedding)\n",
        "  Args:\n",
        "    text: The phrase that contains an error semantic word.\n",
        "    arabert_model : the arabert model needed to clean and vectorize the tokens.\n",
        "  Returns:\n",
        "    similarities_token_context[0][0] : The wrong word that exists in the dictionnary of the similarities between each token and it's context\n",
        "\n",
        "  \"\"\"\n",
        "  embeddings = Extract_embeddings(text,arabert_model)\n",
        "  similarities_token_context = dict()\n",
        "  tokens = list(embeddings.keys())\n",
        "  \n",
        "  for token in tokens:\n",
        "    context = [tk for tk in tokens if tk != token]\n",
        "    context_emb = context_embedding_bert(context,embeddings)\n",
        "    cosine = cosine_sim(context_emb, embeddings[token].detach().numpy())\n",
        "    if np.isnan(cosine)==False:\n",
        "      similarities_token_context[token] = cosine_sim(context_emb, embeddings[token].detach().numpy())\n",
        "    else:\n",
        "      similarities_token_context[token] = 0\n",
        "    \n",
        "\n",
        "  sorted_similarity_list = sorted(similarities_token_context.items(), key = lambda item: item[1])\n",
        "  #print(sorted_similarity_list)\n",
        "  if sorted_similarity_list[0][1]<=0.95 :\n",
        "    #print(\"The wrong word in the sentence is : \", sorted_similarity_list[0][0])\n",
        "    return sorted_similarity_list[0][0]\n",
        "  else:\n",
        "    return 'There is no wrong word'"
      ],
      "metadata": {
        "id": "AWj62nFe8WYW"
      },
      "execution_count": 45,
      "outputs": []
    },
    {
      "cell_type": "code",
      "source": [
        "txt = 'أعصاب الأشجار بها أوراق'\n",
        "wrong_word = AraBert_Detect_wrong_token(txt,arabert_model)\n",
        "print(\"The wrong word in the sentence is : \", wrong_word)"
      ],
      "metadata": {
        "colab": {
          "base_uri": "https://localhost:8080/"
        },
        "id": "Ooh8JEk7aSl6",
        "outputId": "06612f80-4802-4904-d6dc-4cdf14870601"
      },
      "execution_count": 46,
      "outputs": [
        {
          "output_type": "stream",
          "name": "stdout",
          "text": [
            "The wrong word in the sentence is :  اعصاب\n"
          ]
        }
      ]
    },
    {
      "cell_type": "code",
      "source": [
        "df['w_araBert'] = df['text'].apply(lambda text : AraBert_Detect_wrong_token(text))\n",
        "df.head()"
      ],
      "metadata": {
        "id": "71KxcOF5CbH_",
        "colab": {
          "base_uri": "https://localhost:8080/",
          "height": 206
        },
        "outputId": "1760e237-713f-4221-c11b-ba11d0eeed10"
      },
      "execution_count": 47,
      "outputs": [
        {
          "output_type": "execute_result",
          "data": {
            "text/plain": [
              "   labels                            text                w_aravec w_araBert\n",
              "0   عاصفه            عاصفة لبنان هي بيروت  There is no wrong word     عاصفه\n",
              "1  الناكر         أستيقظ في الصباح الناكر                  الناكر    استيقظ\n",
              "2   اعصاب         أعصاب الأشجار بها أوراق  There is no wrong word     اعصاب\n",
              "3  الوقفه        كتب الطبيب الوقفة الطبية  There is no wrong word       كتب\n",
              "4  مبتكرا  أنَا أَصْحُو مِن النَوم مبتكرا  There is no wrong word     النوم"
            ],
            "text/html": [
              "\n",
              "  <div id=\"df-fe602b31-b943-4aa6-8bdd-af69533a6947\">\n",
              "    <div class=\"colab-df-container\">\n",
              "      <div>\n",
              "<style scoped>\n",
              "    .dataframe tbody tr th:only-of-type {\n",
              "        vertical-align: middle;\n",
              "    }\n",
              "\n",
              "    .dataframe tbody tr th {\n",
              "        vertical-align: top;\n",
              "    }\n",
              "\n",
              "    .dataframe thead th {\n",
              "        text-align: right;\n",
              "    }\n",
              "</style>\n",
              "<table border=\"1\" class=\"dataframe\">\n",
              "  <thead>\n",
              "    <tr style=\"text-align: right;\">\n",
              "      <th></th>\n",
              "      <th>labels</th>\n",
              "      <th>text</th>\n",
              "      <th>w_aravec</th>\n",
              "      <th>w_araBert</th>\n",
              "    </tr>\n",
              "  </thead>\n",
              "  <tbody>\n",
              "    <tr>\n",
              "      <th>0</th>\n",
              "      <td>عاصفه</td>\n",
              "      <td>عاصفة لبنان هي بيروت</td>\n",
              "      <td>There is no wrong word</td>\n",
              "      <td>عاصفه</td>\n",
              "    </tr>\n",
              "    <tr>\n",
              "      <th>1</th>\n",
              "      <td>الناكر</td>\n",
              "      <td>أستيقظ في الصباح الناكر</td>\n",
              "      <td>الناكر</td>\n",
              "      <td>استيقظ</td>\n",
              "    </tr>\n",
              "    <tr>\n",
              "      <th>2</th>\n",
              "      <td>اعصاب</td>\n",
              "      <td>أعصاب الأشجار بها أوراق</td>\n",
              "      <td>There is no wrong word</td>\n",
              "      <td>اعصاب</td>\n",
              "    </tr>\n",
              "    <tr>\n",
              "      <th>3</th>\n",
              "      <td>الوقفه</td>\n",
              "      <td>كتب الطبيب الوقفة الطبية</td>\n",
              "      <td>There is no wrong word</td>\n",
              "      <td>كتب</td>\n",
              "    </tr>\n",
              "    <tr>\n",
              "      <th>4</th>\n",
              "      <td>مبتكرا</td>\n",
              "      <td>أنَا أَصْحُو مِن النَوم مبتكرا</td>\n",
              "      <td>There is no wrong word</td>\n",
              "      <td>النوم</td>\n",
              "    </tr>\n",
              "  </tbody>\n",
              "</table>\n",
              "</div>\n",
              "      <button class=\"colab-df-convert\" onclick=\"convertToInteractive('df-fe602b31-b943-4aa6-8bdd-af69533a6947')\"\n",
              "              title=\"Convert this dataframe to an interactive table.\"\n",
              "              style=\"display:none;\">\n",
              "        \n",
              "  <svg xmlns=\"http://www.w3.org/2000/svg\" height=\"24px\"viewBox=\"0 0 24 24\"\n",
              "       width=\"24px\">\n",
              "    <path d=\"M0 0h24v24H0V0z\" fill=\"none\"/>\n",
              "    <path d=\"M18.56 5.44l.94 2.06.94-2.06 2.06-.94-2.06-.94-.94-2.06-.94 2.06-2.06.94zm-11 1L8.5 8.5l.94-2.06 2.06-.94-2.06-.94L8.5 2.5l-.94 2.06-2.06.94zm10 10l.94 2.06.94-2.06 2.06-.94-2.06-.94-.94-2.06-.94 2.06-2.06.94z\"/><path d=\"M17.41 7.96l-1.37-1.37c-.4-.4-.92-.59-1.43-.59-.52 0-1.04.2-1.43.59L10.3 9.45l-7.72 7.72c-.78.78-.78 2.05 0 2.83L4 21.41c.39.39.9.59 1.41.59.51 0 1.02-.2 1.41-.59l7.78-7.78 2.81-2.81c.8-.78.8-2.07 0-2.86zM5.41 20L4 18.59l7.72-7.72 1.47 1.35L5.41 20z\"/>\n",
              "  </svg>\n",
              "      </button>\n",
              "      \n",
              "  <style>\n",
              "    .colab-df-container {\n",
              "      display:flex;\n",
              "      flex-wrap:wrap;\n",
              "      gap: 12px;\n",
              "    }\n",
              "\n",
              "    .colab-df-convert {\n",
              "      background-color: #E8F0FE;\n",
              "      border: none;\n",
              "      border-radius: 50%;\n",
              "      cursor: pointer;\n",
              "      display: none;\n",
              "      fill: #1967D2;\n",
              "      height: 32px;\n",
              "      padding: 0 0 0 0;\n",
              "      width: 32px;\n",
              "    }\n",
              "\n",
              "    .colab-df-convert:hover {\n",
              "      background-color: #E2EBFA;\n",
              "      box-shadow: 0px 1px 2px rgba(60, 64, 67, 0.3), 0px 1px 3px 1px rgba(60, 64, 67, 0.15);\n",
              "      fill: #174EA6;\n",
              "    }\n",
              "\n",
              "    [theme=dark] .colab-df-convert {\n",
              "      background-color: #3B4455;\n",
              "      fill: #D2E3FC;\n",
              "    }\n",
              "\n",
              "    [theme=dark] .colab-df-convert:hover {\n",
              "      background-color: #434B5C;\n",
              "      box-shadow: 0px 1px 3px 1px rgba(0, 0, 0, 0.15);\n",
              "      filter: drop-shadow(0px 1px 2px rgba(0, 0, 0, 0.3));\n",
              "      fill: #FFFFFF;\n",
              "    }\n",
              "  </style>\n",
              "\n",
              "      <script>\n",
              "        const buttonEl =\n",
              "          document.querySelector('#df-fe602b31-b943-4aa6-8bdd-af69533a6947 button.colab-df-convert');\n",
              "        buttonEl.style.display =\n",
              "          google.colab.kernel.accessAllowed ? 'block' : 'none';\n",
              "\n",
              "        async function convertToInteractive(key) {\n",
              "          const element = document.querySelector('#df-fe602b31-b943-4aa6-8bdd-af69533a6947');\n",
              "          const dataTable =\n",
              "            await google.colab.kernel.invokeFunction('convertToInteractive',\n",
              "                                                     [key], {});\n",
              "          if (!dataTable) return;\n",
              "\n",
              "          const docLinkHtml = 'Like what you see? Visit the ' +\n",
              "            '<a target=\"_blank\" href=https://colab.research.google.com/notebooks/data_table.ipynb>data table notebook</a>'\n",
              "            + ' to learn more about interactive tables.';\n",
              "          element.innerHTML = '';\n",
              "          dataTable['output_type'] = 'display_data';\n",
              "          await google.colab.output.renderOutput(dataTable, element);\n",
              "          const docLink = document.createElement('div');\n",
              "          docLink.innerHTML = docLinkHtml;\n",
              "          element.appendChild(docLink);\n",
              "        }\n",
              "      </script>\n",
              "    </div>\n",
              "  </div>\n",
              "  "
            ]
          },
          "metadata": {},
          "execution_count": 47
        }
      ]
    },
    {
      "cell_type": "code",
      "source": [
        "# Calculation of the Accuracy\n",
        "\n",
        "result = sum(df['w_araBert'] == df['labels'])\n",
        "accuracy = result/len(df)\n",
        "print(\"Accuracy: \",accuracy)"
      ],
      "metadata": {
        "colab": {
          "base_uri": "https://localhost:8080/"
        },
        "id": "wEYB04YyIKxh",
        "outputId": "2b89f1d7-b3dd-4ad7-e0e9-baf5752edf5e"
      },
      "execution_count": 48,
      "outputs": [
        {
          "output_type": "stream",
          "name": "stdout",
          "text": [
            "Accuracy:  0.25\n"
          ]
        }
      ]
    },
    {
      "cell_type": "markdown",
      "source": [
        "# Fill Mask Arabert Model + Aravec"
      ],
      "metadata": {
        "id": "ObKgXhWVRRqj"
      }
    },
    {
      "cell_type": "markdown",
      "source": [
        "Here, we can use the aravec model to detect semantically incorrect words and then try to use the filler mask to correct this semantic error by taking the **most likely word that can be correct**."
      ],
      "metadata": {
        "id": "n0LO9Ya56zQb"
      }
    },
    {
      "cell_type": "code",
      "source": [
        "from transformers import AutoModelWithLMHead\n",
        "modelv01 = AutoModelWithLMHead.from_pretrained('aubmindlab/bert-base-arabertv01')\n",
        "tokenizerv01 = AutoTokenizer.from_pretrained('aubmindlab/bert-base-arabertv01')\n",
        "preprocess = ArabertPreprocessor(model_name='aubmindlab/bert-base-arabertv01')\n",
        "\n",
        "pipeline_fill_mask = pipeline(\"fill-mask\",model=modelv01, tokenizer=tokenizerv01)"
      ],
      "metadata": {
        "id": "lmEUsYo3RVA9"
      },
      "execution_count": null,
      "outputs": []
    },
    {
      "cell_type": "code",
      "source": [
        "text = 'أستيقظ في الصباح  [MASK].'\n",
        "textv1 = preprocess.preprocess(text)\n",
        "textv1 = textv1.replace(\"MASK\",\"[MASK]\")\n",
        "textv1 = textv1.replace(\":[\",\":\")\n",
        "pprint(pipeline_fill_mask(text,))\n"
      ],
      "metadata": {
        "colab": {
          "base_uri": "https://localhost:8080/"
        },
        "id": "kTjG3LyzRa_e",
        "outputId": "20047a4b-ab78-4279-c978-e49c492bf68f"
      },
      "execution_count": 51,
      "outputs": [
        {
          "output_type": "stream",
          "name": "stdout",
          "text": [
            "[{'score': 0.6248967051506042,\n",
            "  'sequence': 'أستيقظ في الصباح الباكر.',\n",
            "  'token': 31942,\n",
            "  'token_str': 'الباكر'},\n",
            " {'score': 0.09908975660800934,\n",
            "  'sequence': 'أستيقظ في الصباح \".',\n",
            "  'token': 2,\n",
            "  'token_str': '\"'},\n",
            " {'score': 0.0931173712015152,\n",
            "  'sequence': \"أستيقظ في الصباح '.\",\n",
            "  'token': 4,\n",
            "  'token_str': \"'\"},\n",
            " {'score': 0.028514614328742027,\n",
            "  'sequence': 'أستيقظ في الصباح التالي.',\n",
            "  'token': 32063,\n",
            "  'token_str': 'التالي'},\n",
            " {'score': 0.0135259497910738,\n",
            "  'sequence': 'أستيقظ في الصباح صباحا.',\n",
            "  'token': 22897,\n",
            "  'token_str': 'صباحا'}]\n"
          ]
        }
      ]
    },
    {
      "cell_type": "code",
      "source": [],
      "metadata": {
        "id": "6TUEM0eqRoAj"
      },
      "execution_count": null,
      "outputs": []
    }
  ]
}